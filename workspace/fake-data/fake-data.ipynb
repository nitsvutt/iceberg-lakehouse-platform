{
 "cells": [
  {
   "cell_type": "code",
   "execution_count": 1,
   "id": "6f027a55-59f5-4b4c-88dc-aeeac9534699",
   "metadata": {},
   "outputs": [],
   "source": [
    "import sys\n",
    "sys.path.append(r'C:\\Data\\2-Workspace\\2-Project\\iceberg-lakehouse-platform\\workspace\\lib')\n",
    "\n",
    "from rdbms_ops import create_postgresql_engine, create_mysql_engine, execute_query"
   ]
  },
  {
   "cell_type": "code",
   "execution_count": 3,
   "id": "b67dc065-eafb-4710-9d04-b2d82ba5374d",
   "metadata": {},
   "outputs": [
    {
     "data": {
      "text/plain": [
       "[{'customer_id': 0,\n",
       "  'first_name': 'a',\n",
       "  'last_name': 'a',\n",
       "  'birth_date': None,\n",
       "  'address': None,\n",
       "  'phone_number': None,\n",
       "  'email': None,\n",
       "  'job_title': None,\n",
       "  'created_datetime': None,\n",
       "  'updated_datetime': None}]"
      ]
     },
     "execution_count": 3,
     "metadata": {},
     "output_type": "execute_result"
    }
   ],
   "source": [
    "postgresl_engine = create_postgresql_engine(database='product1')\n",
    "\n",
    "res = execute_query(postgresl_engine, 'SELECT * FROM customer', return_value=True)\n",
    "res"
   ]
  },
  {
   "cell_type": "code",
   "execution_count": 5,
   "id": "e1fe8cd5-ec51-4567-bdf1-8e4342136c05",
   "metadata": {},
   "outputs": [
    {
     "data": {
      "text/plain": [
       "[]"
      ]
     },
     "execution_count": 5,
     "metadata": {},
     "output_type": "execute_result"
    }
   ],
   "source": [
    "mysql_engine = create_mysql_engine(database='product2')\n",
    "\n",
    "res = execute_query(mysql_engine, 'SELECT * FROM account', return_value=True)\n",
    "res"
   ]
  }
 ],
 "metadata": {
  "kernelspec": {
   "display_name": "Python 3 (ipykernel)",
   "language": "python",
   "name": "python3"
  },
  "language_info": {
   "codemirror_mode": {
    "name": "ipython",
    "version": 3
   },
   "file_extension": ".py",
   "mimetype": "text/x-python",
   "name": "python",
   "nbconvert_exporter": "python",
   "pygments_lexer": "ipython3",
   "version": "3.10.4"
  }
 },
 "nbformat": 4,
 "nbformat_minor": 5
}
